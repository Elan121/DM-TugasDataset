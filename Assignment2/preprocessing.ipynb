{
 "cells": [
  {
   "cell_type": "code",
   "execution_count": 693,
   "id": "6fb73645-daff-41a8-ac73-0d0f951b8b62",
   "metadata": {},
   "outputs": [],
   "source": [
    "import numpy as np\n",
    "import matplotlib.pyplot as plt\n",
    "import pandas as pd"
   ]
  },
  {
   "cell_type": "code",
   "execution_count": 694,
   "id": "d1cb0f7f-4ac0-46ba-ab1b-fe2c8f61cb56",
   "metadata": {},
   "outputs": [],
   "source": [
    "dataset = pd.read_csv('bank.csv', sep=';')\n",
    "to_drop = ['day', \n",
    "           'month',\n",
    "           'pdays',\n",
    "           'previous'\n",
    "           ]\n",
    "dataset.drop(to_drop, inplace=True, axis=1)\n",
    "dataset.head()\n",
    "x = dataset.iloc[0:20, :-1].values\n",
    "y = dataset.iloc[0:20, -1].values"
   ]
  },
  {
   "cell_type": "code",
   "execution_count": 695,
   "id": "29b42ebe-e5fe-4535-bc94-eea5f36df748",
   "metadata": {},
   "outputs": [
    {
     "name": "stdout",
     "output_type": "stream",
     "text": [
      "[[30 'unemployed' 'married' 'primary' 'no' 1787 'no' 'no' 'cellular' 79 1\n",
      "  'unknown']\n",
      " [33 'services' 'married' 'secondary' 'no' 4789 'yes' 'yes' 'cellular'\n",
      "  220 1 'failure']\n",
      " [35 'management' 'single' 'tertiary' 'no' 1350 'yes' 'no' 'cellular' 185\n",
      "  1 'failure']\n",
      " [30 'management' 'married' 'tertiary' 'no' 1476 'yes' 'yes' 'unknown'\n",
      "  199 4 'unknown']\n",
      " [59 'blue-collar' 'married' 'secondary' 'no' 0 'yes' 'no' 'unknown' 226\n",
      "  1 'unknown']\n",
      " [35 'management' 'single' 'tertiary' 'no' 747 'no' 'no' 'cellular' 141 2\n",
      "  'failure']\n",
      " [36 'self-employed' 'married' 'tertiary' 'no' 307 'yes' 'no' 'cellular'\n",
      "  341 1 'other']\n",
      " [39 'technician' 'married' 'secondary' 'no' 147 'yes' 'no' 'cellular'\n",
      "  151 2 'unknown']\n",
      " [41 'entrepreneur' 'married' 'tertiary' 'no' 221 'yes' 'no' 'unknown' 57\n",
      "  2 'unknown']\n",
      " [43 'services' 'married' 'primary' 'no' -88 'yes' 'yes' 'cellular' 313 1\n",
      "  'failure']\n",
      " [39 'services' 'married' 'secondary' 'no' 9374 'yes' 'no' 'unknown' 273\n",
      "  1 'unknown']\n",
      " [43 'admin.' 'married' 'secondary' 'no' 264 'yes' 'no' 'cellular' 113 2\n",
      "  'unknown']\n",
      " [36 'technician' 'married' 'tertiary' 'no' 1109 'no' 'no' 'cellular' 328\n",
      "  2 'unknown']\n",
      " [20 'student' 'single' 'secondary' 'no' 502 'no' 'no' 'cellular' 261 1\n",
      "  'unknown']\n",
      " [31 'blue-collar' 'married' 'secondary' 'no' 360 'yes' 'yes' 'cellular'\n",
      "  89 1 'failure']\n",
      " [40 'management' 'married' 'tertiary' 'no' 194 'no' 'yes' 'cellular' 189\n",
      "  2 'unknown']\n",
      " [56 'technician' 'married' 'secondary' 'no' 4073 'no' 'no' 'cellular'\n",
      "  239 5 'unknown']\n",
      " [37 'admin.' 'single' 'tertiary' 'no' 2317 'yes' 'no' 'cellular' 114 1\n",
      "  'failure']\n",
      " [25 'blue-collar' 'single' 'primary' 'no' -221 'yes' 'no' 'unknown' 250\n",
      "  1 'unknown']\n",
      " [31 'services' 'married' 'secondary' 'no' 132 'no' 'no' 'cellular' 148 1\n",
      "  'other']]\n"
     ]
    }
   ],
   "source": [
    "print(x)"
   ]
  },
  {
   "cell_type": "code",
   "execution_count": 696,
   "id": "476c17c4-7ac8-4a60-96fe-9df7b6523726",
   "metadata": {},
   "outputs": [
    {
     "name": "stdout",
     "output_type": "stream",
     "text": [
      "['no' 'no' 'no' 'no' 'no' 'no' 'no' 'no' 'no' 'no' 'no' 'no' 'no' 'yes'\n",
      " 'no' 'no' 'no' 'no' 'no' 'no']\n"
     ]
    }
   ],
   "source": [
    "print(y)"
   ]
  },
  {
   "cell_type": "code",
   "execution_count": 697,
   "id": "eb93711b-7107-4005-b75c-775cf37f5c65",
   "metadata": {},
   "outputs": [],
   "source": [
    "from sklearn.impute import SimpleImputer\n",
    "imputer = SimpleImputer(missing_values='unknown', strategy='most_frequent')\n",
    "imputer.fit(x[:, 1:2])\n",
    "x[:, 1:2] = imputer.transform(x[:, 1:2])"
   ]
  },
  {
   "cell_type": "code",
   "execution_count": 698,
   "id": "a2557990-e941-47f0-8d8f-6a1e9d36a672",
   "metadata": {},
   "outputs": [
    {
     "name": "stdout",
     "output_type": "stream",
     "text": [
      "[['unemployed']\n",
      " ['services']\n",
      " ['management']\n",
      " ['management']\n",
      " ['blue-collar']\n",
      " ['management']\n",
      " ['self-employed']\n",
      " ['technician']\n",
      " ['entrepreneur']\n",
      " ['services']\n",
      " ['services']\n",
      " ['admin.']\n",
      " ['technician']\n",
      " ['student']\n",
      " ['blue-collar']\n",
      " ['management']\n",
      " ['technician']\n",
      " ['admin.']\n",
      " ['blue-collar']\n",
      " ['services']]\n"
     ]
    }
   ],
   "source": [
    "print(x[:, 1:2])"
   ]
  },
  {
   "cell_type": "code",
   "execution_count": 699,
   "id": "8e4745b3-a4ce-40a0-a662-20f90495ba52",
   "metadata": {},
   "outputs": [],
   "source": [
    "from sklearn.impute import SimpleImputer\n",
    "imputer = SimpleImputer(missing_values='unknown', strategy='most_frequent')\n",
    "imputer.fit(x[:, 2:3])\n",
    "x[:, 2:3] = imputer.transform(x[:, 2:3])"
   ]
  },
  {
   "cell_type": "code",
   "execution_count": 700,
   "id": "e3479b54-df7a-4891-8dff-dc76b7edf8f6",
   "metadata": {},
   "outputs": [
    {
     "name": "stdout",
     "output_type": "stream",
     "text": [
      "[['married']\n",
      " ['married']\n",
      " ['single']\n",
      " ['married']\n",
      " ['married']\n",
      " ['single']\n",
      " ['married']\n",
      " ['married']\n",
      " ['married']\n",
      " ['married']\n",
      " ['married']\n",
      " ['married']\n",
      " ['married']\n",
      " ['single']\n",
      " ['married']\n",
      " ['married']\n",
      " ['married']\n",
      " ['single']\n",
      " ['single']\n",
      " ['married']]\n"
     ]
    }
   ],
   "source": [
    "print(x[:, 2:3])"
   ]
  },
  {
   "cell_type": "code",
   "execution_count": 701,
   "id": "2fbfd0a9-c032-4655-9692-56a42367579a",
   "metadata": {},
   "outputs": [],
   "source": [
    "from sklearn.impute import SimpleImputer\n",
    "imputer = SimpleImputer(missing_values='unknown', strategy='most_frequent')\n",
    "imputer.fit(x[:, 3:4])\n",
    "x[:, 3:4] = imputer.transform(x[:, 3:4])"
   ]
  },
  {
   "cell_type": "code",
   "execution_count": 702,
   "id": "ed4f44d1-def3-465d-8b66-0ba716615bf4",
   "metadata": {},
   "outputs": [
    {
     "name": "stdout",
     "output_type": "stream",
     "text": [
      "[['primary']\n",
      " ['secondary']\n",
      " ['tertiary']\n",
      " ['tertiary']\n",
      " ['secondary']\n",
      " ['tertiary']\n",
      " ['tertiary']\n",
      " ['secondary']\n",
      " ['tertiary']\n",
      " ['primary']\n",
      " ['secondary']\n",
      " ['secondary']\n",
      " ['tertiary']\n",
      " ['secondary']\n",
      " ['secondary']\n",
      " ['tertiary']\n",
      " ['secondary']\n",
      " ['tertiary']\n",
      " ['primary']\n",
      " ['secondary']]\n"
     ]
    }
   ],
   "source": [
    "print(x[:, 3:4])"
   ]
  },
  {
   "cell_type": "code",
   "execution_count": 703,
   "id": "8c1cb66a-29d1-4adb-a379-4e74028c460e",
   "metadata": {},
   "outputs": [],
   "source": [
    "from sklearn.impute import SimpleImputer\n",
    "imputer = SimpleImputer(missing_values='unknown', strategy='most_frequent')\n",
    "imputer.fit(x[:, 7:8])\n",
    "x[:, 7:8] = imputer.transform(x[:, 7:8])"
   ]
  },
  {
   "cell_type": "code",
   "execution_count": 704,
   "id": "fa7f4e18-f05d-4c9c-aa67-0124b362099e",
   "metadata": {},
   "outputs": [
    {
     "name": "stdout",
     "output_type": "stream",
     "text": [
      "[['no']\n",
      " ['yes']\n",
      " ['no']\n",
      " ['yes']\n",
      " ['no']\n",
      " ['no']\n",
      " ['no']\n",
      " ['no']\n",
      " ['no']\n",
      " ['yes']\n",
      " ['no']\n",
      " ['no']\n",
      " ['no']\n",
      " ['no']\n",
      " ['yes']\n",
      " ['yes']\n",
      " ['no']\n",
      " ['no']\n",
      " ['no']\n",
      " ['no']]\n"
     ]
    }
   ],
   "source": [
    "print(x[:, 7:8])"
   ]
  },
  {
   "cell_type": "code",
   "execution_count": 705,
   "id": "25875c3b-86fe-4b04-a051-5e3ead7aee81",
   "metadata": {},
   "outputs": [],
   "source": [
    "from sklearn.compose import ColumnTransformer\n",
    "from sklearn.preprocessing import OneHotEncoder\n",
    "\n",
    "ct = ColumnTransformer(transformers=[('encoder', OneHotEncoder(), [1, 2, 3, 4, 6, 7, 8, 11])], remainder='passthrough')\n",
    "x = np.array(ct.fit_transform(x))"
   ]
  },
  {
   "cell_type": "code",
   "execution_count": 706,
   "id": "293ea177-f6cb-496a-85a2-828f6d31076a",
   "metadata": {},
   "outputs": [
    {
     "name": "stdout",
     "output_type": "stream",
     "text": [
      "[[0.0 0.0 0.0 0.0 0.0 0.0 0.0 0.0 1.0 1.0 0.0 1.0 0.0 0.0 1.0 1.0 0.0 1.0\n",
      "  0.0 1.0 0.0 0.0 0.0 1.0 30 1787 79 1]\n",
      " [0.0 0.0 0.0 0.0 0.0 1.0 0.0 0.0 0.0 1.0 0.0 0.0 1.0 0.0 1.0 0.0 1.0 0.0\n",
      "  1.0 1.0 0.0 1.0 0.0 0.0 33 4789 220 1]\n",
      " [0.0 0.0 0.0 1.0 0.0 0.0 0.0 0.0 0.0 0.0 1.0 0.0 0.0 1.0 1.0 0.0 1.0 1.0\n",
      "  0.0 1.0 0.0 1.0 0.0 0.0 35 1350 185 1]\n",
      " [0.0 0.0 0.0 1.0 0.0 0.0 0.0 0.0 0.0 1.0 0.0 0.0 0.0 1.0 1.0 0.0 1.0 0.0\n",
      "  1.0 0.0 1.0 0.0 0.0 1.0 30 1476 199 4]\n",
      " [0.0 1.0 0.0 0.0 0.0 0.0 0.0 0.0 0.0 1.0 0.0 0.0 1.0 0.0 1.0 0.0 1.0 1.0\n",
      "  0.0 0.0 1.0 0.0 0.0 1.0 59 0 226 1]\n",
      " [0.0 0.0 0.0 1.0 0.0 0.0 0.0 0.0 0.0 0.0 1.0 0.0 0.0 1.0 1.0 1.0 0.0 1.0\n",
      "  0.0 1.0 0.0 1.0 0.0 0.0 35 747 141 2]\n",
      " [0.0 0.0 0.0 0.0 1.0 0.0 0.0 0.0 0.0 1.0 0.0 0.0 0.0 1.0 1.0 0.0 1.0 1.0\n",
      "  0.0 1.0 0.0 0.0 1.0 0.0 36 307 341 1]\n",
      " [0.0 0.0 0.0 0.0 0.0 0.0 0.0 1.0 0.0 1.0 0.0 0.0 1.0 0.0 1.0 0.0 1.0 1.0\n",
      "  0.0 1.0 0.0 0.0 0.0 1.0 39 147 151 2]\n",
      " [0.0 0.0 1.0 0.0 0.0 0.0 0.0 0.0 0.0 1.0 0.0 0.0 0.0 1.0 1.0 0.0 1.0 1.0\n",
      "  0.0 0.0 1.0 0.0 0.0 1.0 41 221 57 2]\n",
      " [0.0 0.0 0.0 0.0 0.0 1.0 0.0 0.0 0.0 1.0 0.0 1.0 0.0 0.0 1.0 0.0 1.0 0.0\n",
      "  1.0 1.0 0.0 1.0 0.0 0.0 43 -88 313 1]\n",
      " [0.0 0.0 0.0 0.0 0.0 1.0 0.0 0.0 0.0 1.0 0.0 0.0 1.0 0.0 1.0 0.0 1.0 1.0\n",
      "  0.0 0.0 1.0 0.0 0.0 1.0 39 9374 273 1]\n",
      " [1.0 0.0 0.0 0.0 0.0 0.0 0.0 0.0 0.0 1.0 0.0 0.0 1.0 0.0 1.0 0.0 1.0 1.0\n",
      "  0.0 1.0 0.0 0.0 0.0 1.0 43 264 113 2]\n",
      " [0.0 0.0 0.0 0.0 0.0 0.0 0.0 1.0 0.0 1.0 0.0 0.0 0.0 1.0 1.0 1.0 0.0 1.0\n",
      "  0.0 1.0 0.0 0.0 0.0 1.0 36 1109 328 2]\n",
      " [0.0 0.0 0.0 0.0 0.0 0.0 1.0 0.0 0.0 0.0 1.0 0.0 1.0 0.0 1.0 1.0 0.0 1.0\n",
      "  0.0 1.0 0.0 0.0 0.0 1.0 20 502 261 1]\n",
      " [0.0 1.0 0.0 0.0 0.0 0.0 0.0 0.0 0.0 1.0 0.0 0.0 1.0 0.0 1.0 0.0 1.0 0.0\n",
      "  1.0 1.0 0.0 1.0 0.0 0.0 31 360 89 1]\n",
      " [0.0 0.0 0.0 1.0 0.0 0.0 0.0 0.0 0.0 1.0 0.0 0.0 0.0 1.0 1.0 1.0 0.0 0.0\n",
      "  1.0 1.0 0.0 0.0 0.0 1.0 40 194 189 2]\n",
      " [0.0 0.0 0.0 0.0 0.0 0.0 0.0 1.0 0.0 1.0 0.0 0.0 1.0 0.0 1.0 1.0 0.0 1.0\n",
      "  0.0 1.0 0.0 0.0 0.0 1.0 56 4073 239 5]\n",
      " [1.0 0.0 0.0 0.0 0.0 0.0 0.0 0.0 0.0 0.0 1.0 0.0 0.0 1.0 1.0 0.0 1.0 1.0\n",
      "  0.0 1.0 0.0 1.0 0.0 0.0 37 2317 114 1]\n",
      " [0.0 1.0 0.0 0.0 0.0 0.0 0.0 0.0 0.0 0.0 1.0 1.0 0.0 0.0 1.0 0.0 1.0 1.0\n",
      "  0.0 0.0 1.0 0.0 0.0 1.0 25 -221 250 1]\n",
      " [0.0 0.0 0.0 0.0 0.0 1.0 0.0 0.0 0.0 1.0 0.0 0.0 1.0 0.0 1.0 1.0 0.0 1.0\n",
      "  0.0 1.0 0.0 0.0 1.0 0.0 31 132 148 1]]\n"
     ]
    }
   ],
   "source": [
    "print(x)"
   ]
  },
  {
   "cell_type": "code",
   "execution_count": 707,
   "id": "8d3feb83-6d0a-4e18-944f-a639ad192c7c",
   "metadata": {},
   "outputs": [],
   "source": [
    "from sklearn.preprocessing import LabelEncoder\n",
    "le = LabelEncoder()\n",
    "y = le.fit_transform(y)"
   ]
  },
  {
   "cell_type": "code",
   "execution_count": 708,
   "id": "7fc48620-202a-4836-9396-0ff93fec7583",
   "metadata": {},
   "outputs": [
    {
     "name": "stdout",
     "output_type": "stream",
     "text": [
      "[0 0 0 0 0 0 0 0 0 0 0 0 0 1 0 0 0 0 0 0]\n"
     ]
    }
   ],
   "source": [
    "print(y)"
   ]
  },
  {
   "cell_type": "code",
   "execution_count": 709,
   "id": "e79fafb3-ad9d-47c4-a96c-45d6ca976078",
   "metadata": {},
   "outputs": [],
   "source": [
    "from sklearn.model_selection import train_test_split\n",
    "x_train, x_test, y_train, y_test = train_test_split(x, y, test_size=0.2, random_state=1)"
   ]
  },
  {
   "cell_type": "code",
   "execution_count": 710,
   "id": "ff5b6d72-f42e-45cf-b4bf-9f3ec7810cb6",
   "metadata": {},
   "outputs": [
    {
     "name": "stdout",
     "output_type": "stream",
     "text": [
      "[[0.0 0.0 0.0 1.0 0.0 0.0 0.0 0.0 0.0 0.0 1.0 0.0 0.0 1.0 1.0 0.0 1.0 1.0\n",
      "  0.0 1.0 0.0 1.0 0.0 0.0 35 1350 185 1]\n",
      " [0.0 1.0 0.0 0.0 0.0 0.0 0.0 0.0 0.0 1.0 0.0 0.0 1.0 0.0 1.0 0.0 1.0 0.0\n",
      "  1.0 1.0 0.0 1.0 0.0 0.0 31 360 89 1]\n",
      " [0.0 1.0 0.0 0.0 0.0 0.0 0.0 0.0 0.0 1.0 0.0 0.0 1.0 0.0 1.0 0.0 1.0 1.0\n",
      "  0.0 0.0 1.0 0.0 0.0 1.0 59 0 226 1]\n",
      " [1.0 0.0 0.0 0.0 0.0 0.0 0.0 0.0 0.0 0.0 1.0 0.0 0.0 1.0 1.0 0.0 1.0 1.0\n",
      "  0.0 1.0 0.0 1.0 0.0 0.0 37 2317 114 1]\n",
      " [0.0 0.0 0.0 0.0 0.0 0.0 0.0 1.0 0.0 1.0 0.0 0.0 1.0 0.0 1.0 0.0 1.0 1.0\n",
      "  0.0 1.0 0.0 0.0 0.0 1.0 39 147 151 2]\n",
      " [0.0 0.0 0.0 0.0 0.0 1.0 0.0 0.0 0.0 1.0 0.0 0.0 1.0 0.0 1.0 0.0 1.0 0.0\n",
      "  1.0 1.0 0.0 1.0 0.0 0.0 33 4789 220 1]\n",
      " [0.0 0.0 0.0 0.0 0.0 0.0 1.0 0.0 0.0 0.0 1.0 0.0 1.0 0.0 1.0 1.0 0.0 1.0\n",
      "  0.0 1.0 0.0 0.0 0.0 1.0 20 502 261 1]\n",
      " [0.0 0.0 0.0 0.0 0.0 0.0 0.0 0.0 1.0 1.0 0.0 1.0 0.0 0.0 1.0 1.0 0.0 1.0\n",
      "  0.0 1.0 0.0 0.0 0.0 1.0 30 1787 79 1]\n",
      " [0.0 0.0 0.0 0.0 0.0 1.0 0.0 0.0 0.0 1.0 0.0 0.0 1.0 0.0 1.0 1.0 0.0 1.0\n",
      "  0.0 1.0 0.0 0.0 1.0 0.0 31 132 148 1]\n",
      " [0.0 1.0 0.0 0.0 0.0 0.0 0.0 0.0 0.0 0.0 1.0 1.0 0.0 0.0 1.0 0.0 1.0 1.0\n",
      "  0.0 0.0 1.0 0.0 0.0 1.0 25 -221 250 1]\n",
      " [0.0 0.0 0.0 0.0 0.0 1.0 0.0 0.0 0.0 1.0 0.0 1.0 0.0 0.0 1.0 0.0 1.0 0.0\n",
      "  1.0 1.0 0.0 1.0 0.0 0.0 43 -88 313 1]\n",
      " [0.0 0.0 0.0 1.0 0.0 0.0 0.0 0.0 0.0 1.0 0.0 0.0 0.0 1.0 1.0 1.0 0.0 0.0\n",
      "  1.0 1.0 0.0 0.0 0.0 1.0 40 194 189 2]\n",
      " [0.0 0.0 1.0 0.0 0.0 0.0 0.0 0.0 0.0 1.0 0.0 0.0 0.0 1.0 1.0 0.0 1.0 1.0\n",
      "  0.0 0.0 1.0 0.0 0.0 1.0 41 221 57 2]\n",
      " [0.0 0.0 0.0 0.0 0.0 0.0 0.0 1.0 0.0 1.0 0.0 0.0 0.0 1.0 1.0 1.0 0.0 1.0\n",
      "  0.0 1.0 0.0 0.0 0.0 1.0 36 1109 328 2]\n",
      " [1.0 0.0 0.0 0.0 0.0 0.0 0.0 0.0 0.0 1.0 0.0 0.0 1.0 0.0 1.0 0.0 1.0 1.0\n",
      "  0.0 1.0 0.0 0.0 0.0 1.0 43 264 113 2]\n",
      " [0.0 0.0 0.0 1.0 0.0 0.0 0.0 0.0 0.0 0.0 1.0 0.0 0.0 1.0 1.0 1.0 0.0 1.0\n",
      "  0.0 1.0 0.0 1.0 0.0 0.0 35 747 141 2]]\n"
     ]
    }
   ],
   "source": [
    "print(x_train)"
   ]
  },
  {
   "cell_type": "code",
   "execution_count": 711,
   "id": "4f9f95b8-059d-4ec6-9d36-7929b76d7d7f",
   "metadata": {},
   "outputs": [
    {
     "name": "stdout",
     "output_type": "stream",
     "text": [
      "[[0.0 0.0 0.0 1.0 0.0 0.0 0.0 0.0 0.0 1.0 0.0 0.0 0.0 1.0 1.0 0.0 1.0 0.0\n",
      "  1.0 0.0 1.0 0.0 0.0 1.0 30 1476 199 4]\n",
      " [0.0 0.0 0.0 0.0 0.0 0.0 0.0 1.0 0.0 1.0 0.0 0.0 1.0 0.0 1.0 1.0 0.0 1.0\n",
      "  0.0 1.0 0.0 0.0 0.0 1.0 56 4073 239 5]\n",
      " [0.0 0.0 0.0 0.0 1.0 0.0 0.0 0.0 0.0 1.0 0.0 0.0 0.0 1.0 1.0 0.0 1.0 1.0\n",
      "  0.0 1.0 0.0 0.0 1.0 0.0 36 307 341 1]\n",
      " [0.0 0.0 0.0 0.0 0.0 1.0 0.0 0.0 0.0 1.0 0.0 0.0 1.0 0.0 1.0 0.0 1.0 1.0\n",
      "  0.0 0.0 1.0 0.0 0.0 1.0 39 9374 273 1]]\n"
     ]
    }
   ],
   "source": [
    "print(x_test)"
   ]
  },
  {
   "cell_type": "code",
   "execution_count": 712,
   "id": "f113fe37-2fc9-4353-9a91-765d69fa75b0",
   "metadata": {},
   "outputs": [
    {
     "name": "stdout",
     "output_type": "stream",
     "text": [
      "[0 0 0 0]\n"
     ]
    }
   ],
   "source": [
    "print(y_test)"
   ]
  },
  {
   "cell_type": "code",
   "execution_count": 713,
   "id": "57b320ff-3222-43f3-9e88-395dded86f34",
   "metadata": {},
   "outputs": [],
   "source": [
    "from sklearn.preprocessing import StandardScaler\n",
    "sc = StandardScaler()\n",
    "x_train[:, 23:] = sc.fit_transform(x_train[:, 23:])\n",
    "x_test[:, 23:] = sc.transform(x_test[:, 23:])"
   ]
  },
  {
   "cell_type": "code",
   "execution_count": 714,
   "id": "c8bfaf9a-154e-4a62-b93b-f9a62c099b68",
   "metadata": {},
   "outputs": [
    {
     "name": "stdout",
     "output_type": "stream",
     "text": [
      "[[0.0 0.0 0.0 1.0 0.0 0.0 0.0 0.0 0.0 0.0 1.0 0.0 0.0 1.0 1.0 0.0 1.0 1.0\n",
      "  0.0 1.0 0.0 1.0 0.0 -1.1338934190276817 -0.13259690993868448\n",
      "  0.4063590565825969 0.07562966796391578 -0.7745966692414834]\n",
      " [0.0 1.0 0.0 0.0 0.0 0.0 0.0 0.0 0.0 1.0 0.0 0.0 1.0 0.0 1.0 0.0 1.0 0.0\n",
      "  1.0 1.0 0.0 1.0 0.0 -1.1338934190276817 -0.6040525897206738\n",
      "  -0.39923887286275167 -1.1344450194587368 -0.7745966692414834]\n",
      " [0.0 1.0 0.0 0.0 0.0 0.0 0.0 0.0 0.0 1.0 0.0 0.0 1.0 0.0 1.0 0.0 1.0 1.0\n",
      "  0.0 0.0 1.0 0.0 0.0 0.8819171036881969 2.696137168753251\n",
      "  -0.6921835744792421 0.5924323990506737 -0.7745966692414834]\n",
      " [1.0 0.0 0.0 0.0 0.0 0.0 0.0 0.0 0.0 0.0 1.0 0.0 0.0 1.0 1.0 0.0 1.0 1.0\n",
      "  0.0 1.0 0.0 1.0 0.0 -1.1338934190276817 0.10313092995231016\n",
      "  1.1932410745357809 -0.819321402942421 -0.7745966692414834]\n",
      " [0.0 0.0 0.0 0.0 0.0 0.0 0.0 1.0 0.0 1.0 0.0 0.0 1.0 0.0 1.0 0.0 1.0 1.0\n",
      "  0.0 1.0 0.0 0.0 0.0 0.8819171036881969 0.3388587698433048\n",
      "  -0.5725644879858418 -0.35293845049827366 1.2909944487358056]\n",
      " [0.0 0.0 0.0 0.0 0.0 1.0 0.0 0.0 0.0 1.0 0.0 0.0 1.0 0.0 1.0 0.0 1.0 0.0\n",
      "  1.0 1.0 0.0 1.0 0.0 -1.1338934190276817 -0.3683247498296791\n",
      "  3.204794692302348 0.5168027310867579 -0.7745966692414834]\n",
      " [0.0 0.0 0.0 0.0 0.0 0.0 1.0 0.0 0.0 0.0 1.0 0.0 1.0 0.0 1.0 1.0 0.0 1.0\n",
      "  0.0 1.0 0.0 0.0 0.0 0.8819171036881969 -1.9005557091211442\n",
      "  -0.28368846278069154 1.0336054621735158 -0.7745966692414834]\n",
      " [0.0 0.0 0.0 0.0 0.0 0.0 0.0 0.0 1.0 1.0 0.0 1.0 0.0 0.0 1.0 1.0 0.0 1.0\n",
      "  0.0 1.0 0.0 0.0 0.0 0.8819171036881969 -0.721916509666171\n",
      "  0.7619613749337255 -1.260494466065263 -0.7745966692414834]\n",
      " [0.0 0.0 0.0 0.0 0.0 1.0 0.0 0.0 0.0 1.0 0.0 0.0 1.0 0.0 1.0 1.0 0.0 1.0\n",
      "  0.0 1.0 0.0 0.0 1.0 -1.1338934190276817 -0.6040525897206738\n",
      "  -0.5847705172198622 -0.39075328448023156 -0.7745966692414834]\n",
      " [0.0 1.0 0.0 0.0 0.0 0.0 0.0 0.0 0.0 0.0 1.0 1.0 0.0 0.0 1.0 0.0 1.0 1.0\n",
      "  0.0 0.0 1.0 0.0 0.0 0.8819171036881969 -1.3112361093936578\n",
      "  -0.8720190718604764 0.8949510709063367 -0.7745966692414834]\n",
      " [0.0 0.0 0.0 0.0 0.0 1.0 0.0 0.0 0.0 1.0 0.0 1.0 0.0 0.0 1.0 0.0 1.0 0.0\n",
      "  1.0 1.0 0.0 1.0 0.0 -1.1338934190276817 0.8103144496252941\n",
      "  -0.7637922793188285 1.6890625845274525 -0.7745966692414834]\n",
      " [0.0 0.0 0.0 1.0 0.0 0.0 0.0 0.0 0.0 1.0 0.0 0.0 0.0 1.0 1.0 1.0 0.0 0.0\n",
      "  1.0 1.0 0.0 0.0 0.0 0.8819171036881969 0.4567226897888021\n",
      "  -0.5343189297192444 0.1260494466065263 1.2909944487358056]\n",
      " [0.0 0.0 1.0 0.0 0.0 0.0 0.0 0.0 0.0 1.0 0.0 0.0 0.0 1.0 1.0 0.0 1.0 1.0\n",
      "  0.0 0.0 1.0 0.0 0.0 0.8819171036881969 0.5745866097342994\n",
      "  -0.5123480770980077 -1.537803248599621 1.2909944487358056]\n",
      " [0.0 0.0 0.0 0.0 0.0 0.0 0.0 1.0 0.0 1.0 0.0 0.0 0.0 1.0 1.0 1.0 0.0 1.0\n",
      "  0.0 1.0 0.0 0.0 0.0 0.8819171036881969 -0.014732989993187165\n",
      "  0.21024885355600195 1.878136754437242 1.2909944487358056]\n",
      " [1.0 0.0 0.0 0.0 0.0 0.0 0.0 0.0 0.0 1.0 0.0 0.0 1.0 0.0 1.0 0.0 1.0 1.0\n",
      "  0.0 1.0 0.0 0.0 0.0 0.8819171036881969 0.8103144496252941\n",
      "  -0.4773574599604824 -0.8319263476030736 1.2909944487358056]\n",
      " [0.0 0.0 0.0 1.0 0.0 0.0 0.0 0.0 0.0 0.0 1.0 0.0 0.0 1.0 1.0 1.0 0.0 1.0\n",
      "  0.0 1.0 0.0 1.0 0.0 -1.1338934190276817 -0.13259690993868448\n",
      "  -0.08432331862502448 -0.47898789710479994 1.2909944487358056]]\n"
     ]
    }
   ],
   "source": [
    "print(x_train)"
   ]
  },
  {
   "cell_type": "code",
   "execution_count": 715,
   "id": "1804d728-7937-487e-89df-c9d9af9b3701",
   "metadata": {},
   "outputs": [
    {
     "name": "stdout",
     "output_type": "stream",
     "text": [
      "[[0.0 0.0 0.0 1.0 0.0 0.0 0.0 0.0 0.0 1.0 0.0 0.0 0.0 1.0 1.0 0.0 1.0 0.0\n",
      "  1.0 0.0 1.0 0.0 0.0 0.8819171036881969 -0.721916509666171\n",
      "  0.5088897021483685 0.2520988932130526 5.422176684690384]\n",
      " [0.0 0.0 0.0 0.0 0.0 0.0 0.0 1.0 0.0 1.0 0.0 0.0 1.0 0.0 1.0 1.0 0.0 1.0\n",
      "  0.0 1.0 0.0 0.0 0.0 0.8819171036881969 2.3425454089167594\n",
      "  2.6221602301984395 0.7562966796391578 7.487767802667673]\n",
      " [0.0 0.0 0.0 0.0 1.0 0.0 0.0 0.0 0.0 1.0 0.0 0.0 0.0 1.0 1.0 0.0 1.0 1.0\n",
      "  0.0 1.0 0.0 0.0 1.0 -1.1338934190276817 -0.014732989993187165\n",
      "  -0.4423668428229572 2.0420010350257263 -0.7745966692414834]\n",
      " [0.0 0.0 0.0 0.0 0.0 1.0 0.0 0.0 0.0 1.0 0.0 0.0 1.0 0.0 1.0 0.0 1.0 1.0\n",
      "  0.0 0.0 1.0 0.0 0.0 0.8819171036881969 0.3388587698433048\n",
      "  6.935770961501261 1.1848647981013474 -0.7745966692414834]]\n"
     ]
    }
   ],
   "source": [
    "print(x_test)"
   ]
  },
  {
   "cell_type": "code",
   "execution_count": null,
   "id": "5082e28a-b6ae-42fa-8b41-0aa85af8b538",
   "metadata": {},
   "outputs": [],
   "source": []
  },
  {
   "cell_type": "code",
   "execution_count": null,
   "id": "39a408ad-0c50-4119-ab95-2dc0a06710b6",
   "metadata": {},
   "outputs": [],
   "source": []
  }
 ],
 "metadata": {
  "kernelspec": {
   "display_name": "Python 3 (ipykernel)",
   "language": "python",
   "name": "python3"
  },
  "language_info": {
   "codemirror_mode": {
    "name": "ipython",
    "version": 3
   },
   "file_extension": ".py",
   "mimetype": "text/x-python",
   "name": "python",
   "nbconvert_exporter": "python",
   "pygments_lexer": "ipython3",
   "version": "3.10.9"
  }
 },
 "nbformat": 4,
 "nbformat_minor": 5
}
